{
 "cells": [
  {
   "cell_type": "code",
   "execution_count": 4,
   "id": "ca438013-c49f-4a70-8dee-3fcc0276168e",
   "metadata": {},
   "outputs": [
    {
     "name": "stdout",
     "output_type": "stream",
     "text": [
      "Requirement already satisfied: pip in c:\\users\\sakthiraja\\sql_notebook\\env\\lib\\site-packages (25.0.1)\n",
      "Collecting pip\n",
      "  Downloading pip-25.1-py3-none-any.whl.metadata (3.6 kB)\n",
      "Downloading pip-25.1-py3-none-any.whl (1.8 MB)\n",
      "   ---------------------------------------- 0.0/1.8 MB ? eta -:--:--\n",
      "   ----- ---------------------------------- 0.3/1.8 MB ? eta -:--:--\n",
      "   ---------------------------------------- 1.8/1.8 MB 6.9 MB/s eta 0:00:00\n",
      "Installing collected packages: pip\n",
      "  Attempting uninstall: pip\n",
      "    Found existing installation: pip 25.0.1\n",
      "    Uninstalling pip-25.0.1:\n",
      "      Successfully uninstalled pip-25.0.1\n",
      "Successfully installed pip-25.1\n",
      "Note: you may need to restart the kernel to use updated packages.\n"
     ]
    }
   ],
   "source": [
    "%pip install --upgrade pip"
   ]
  },
  {
   "cell_type": "code",
   "execution_count": 6,
   "id": "5542f34f-4eb6-4666-9551-543eff30dcea",
   "metadata": {},
   "outputs": [
    {
     "name": "stdout",
     "output_type": "stream",
     "text": [
      "Requirement already satisfied: beautifulsoup4 in c:\\users\\sakthiraja\\sql_notebook\\env\\lib\\site-packages (4.13.3)\n",
      "Requirement already satisfied: soupsieve>1.2 in c:\\users\\sakthiraja\\sql_notebook\\env\\lib\\site-packages (from beautifulsoup4) (2.6)\n",
      "Requirement already satisfied: typing-extensions>=4.0.0 in c:\\users\\sakthiraja\\sql_notebook\\env\\lib\\site-packages (from beautifulsoup4) (4.12.2)\n",
      "Note: you may need to restart the kernel to use updated packages.\n"
     ]
    }
   ],
   "source": [
    "%pip install beautifulsoup4"
   ]
  },
  {
   "cell_type": "code",
   "execution_count": 7,
   "id": "c40a4ed5-a9d9-4dc7-9fd6-b9c6ab0e6a73",
   "metadata": {},
   "outputs": [
    {
     "name": "stdout",
     "output_type": "stream",
     "text": [
      "Requirement already satisfied: requests in c:\\users\\sakthiraja\\sql_notebook\\env\\lib\\site-packages (2.32.3)\n",
      "Requirement already satisfied: charset-normalizer<4,>=2 in c:\\users\\sakthiraja\\sql_notebook\\env\\lib\\site-packages (from requests) (3.4.1)\n",
      "Requirement already satisfied: idna<4,>=2.5 in c:\\users\\sakthiraja\\sql_notebook\\env\\lib\\site-packages (from requests) (3.10)\n",
      "Requirement already satisfied: urllib3<3,>=1.21.1 in c:\\users\\sakthiraja\\sql_notebook\\env\\lib\\site-packages (from requests) (2.3.0)\n",
      "Requirement already satisfied: certifi>=2017.4.17 in c:\\users\\sakthiraja\\sql_notebook\\env\\lib\\site-packages (from requests) (2025.1.31)\n",
      "Note: you may need to restart the kernel to use updated packages.\n"
     ]
    }
   ],
   "source": [
    "%pip install requests"
   ]
  },
  {
   "cell_type": "code",
   "execution_count": 1,
   "id": "5d9d6212-4d4d-417f-88e1-2cdd1b3003d3",
   "metadata": {},
   "outputs": [
    {
     "name": "stdout",
     "output_type": "stream",
     "text": [
      "Collecting openpyxl\n",
      "  Using cached openpyxl-3.1.5-py2.py3-none-any.whl.metadata (2.5 kB)\n",
      "Collecting et-xmlfile (from openpyxl)\n",
      "  Using cached et_xmlfile-2.0.0-py3-none-any.whl.metadata (2.7 kB)\n",
      "Using cached openpyxl-3.1.5-py2.py3-none-any.whl (250 kB)\n",
      "Using cached et_xmlfile-2.0.0-py3-none-any.whl (18 kB)\n",
      "Installing collected packages: et-xmlfile, openpyxl\n",
      "\n",
      "   -------------------- ------------------- 1/2 [openpyxl]\n",
      "   -------------------- ------------------- 1/2 [openpyxl]\n",
      "   -------------------- ------------------- 1/2 [openpyxl]\n",
      "   -------------------- ------------------- 1/2 [openpyxl]\n",
      "   -------------------- ------------------- 1/2 [openpyxl]\n",
      "   -------------------- ------------------- 1/2 [openpyxl]\n",
      "   -------------------- ------------------- 1/2 [openpyxl]\n",
      "   -------------------- ------------------- 1/2 [openpyxl]\n",
      "   -------------------- ------------------- 1/2 [openpyxl]\n",
      "   -------------------- ------------------- 1/2 [openpyxl]\n",
      "   -------------------- ------------------- 1/2 [openpyxl]\n",
      "   -------------------- ------------------- 1/2 [openpyxl]\n",
      "   -------------------- ------------------- 1/2 [openpyxl]\n",
      "   -------------------- ------------------- 1/2 [openpyxl]\n",
      "   -------------------- ------------------- 1/2 [openpyxl]\n",
      "   -------------------- ------------------- 1/2 [openpyxl]\n",
      "   -------------------- ------------------- 1/2 [openpyxl]\n",
      "   -------------------- ------------------- 1/2 [openpyxl]\n",
      "   -------------------- ------------------- 1/2 [openpyxl]\n",
      "   -------------------- ------------------- 1/2 [openpyxl]\n",
      "   -------------------- ------------------- 1/2 [openpyxl]\n",
      "   -------------------- ------------------- 1/2 [openpyxl]\n",
      "   -------------------- ------------------- 1/2 [openpyxl]\n",
      "   -------------------- ------------------- 1/2 [openpyxl]\n",
      "   -------------------- ------------------- 1/2 [openpyxl]\n",
      "   -------------------- ------------------- 1/2 [openpyxl]\n",
      "   -------------------- ------------------- 1/2 [openpyxl]\n",
      "   -------------------- ------------------- 1/2 [openpyxl]\n",
      "   ---------------------------------------- 2/2 [openpyxl]\n",
      "\n",
      "Successfully installed et-xmlfile-2.0.0 openpyxl-3.1.5\n",
      "Note: you may need to restart the kernel to use updated packages.\n"
     ]
    }
   ],
   "source": [
    "%pip install openpyxl"
   ]
  },
  {
   "cell_type": "code",
   "execution_count": 4,
   "id": "c694b467-a010-4f5d-8f6d-7816724e6a6b",
   "metadata": {},
   "outputs": [],
   "source": [
    "from bs4 import BeautifulSoup\n",
    "import requests\n",
    "import pandas as pd\n",
    "\n",
    "\n",
    "try:\n",
    "    response = requests.get(\"https://coinmarketcap.com/\")\n",
    "    soup = BeautifulSoup(response.text, 'html.parser')\n",
    "\n",
    "    table_body = soup.find('table', class_=\"sc-db1da501-3 ccGPRR cmc-table\").find(\"tbody\")\n",
    "    rows = table_body.find_all('tr')\n",
    "    coins = {\"rank\": [], \"name\" : [], \"price\" : [], \"market_cap\" : [], \"volume\" : [], \"circulating_supply\" : []};\n",
    "\n",
    "    count = 0  # Counter to limit to first 10\n",
    "\n",
    "    for row in rows:\n",
    "        cols = row.find_all('td')\n",
    "        if len(cols) < 10:\n",
    "            continue  # Skip malformed rows\n",
    "\n",
    "        try:\n",
    "            # Rank\n",
    "            rank = cols[1].text.strip()\n",
    "\n",
    "            # Name\n",
    "            name_tag = cols[2].find('p', class_='coin-item-name')\n",
    "            name = name_tag.text.strip() if name_tag else \"N/A\"\n",
    "\n",
    "            # Price\n",
    "            price_tag = cols[3].find('span')\n",
    "            price = price_tag.text.strip() if price_tag else \"N/A\"\n",
    "\n",
    "            # Market Cap\n",
    "            market_cap_tag = cols[7].find('span', class_='sc-11478e5d-0')\n",
    "            market_cap = market_cap_tag.text.strip() if market_cap_tag else \"N/A\"\n",
    "\n",
    "            # Volume (24h)\n",
    "            volume_tag = cols[8].find('p')\n",
    "            volume = volume_tag.text.strip() if volume_tag else \"N/A\"\n",
    "\n",
    "            # Circulating Supply\n",
    "            supply_tag = cols[9].find('div', class_='circulating-supply-value')\n",
    "            circulating_supply = supply_tag.text.strip() if supply_tag else \"N/A\"\n",
    "\n",
    "            # Final Output\n",
    "            # print(rank, name, price, market_cap, volume, circulating_supply)\n",
    "            coins[\"rank\"].append(rank)\n",
    "            coins[\"name\"].append(name_tag)\n",
    "            coins[\"price\"].append(price_tag)\n",
    "            coins[\"market_cap\"].append(market_cap_tag)\n",
    "            coins[\"volume\"].append(volume_tag)\n",
    "            coins[\"circulating_supply\"].append(supply_tag)\n",
    "\n",
    "            count += 1\n",
    "            if count == 10:\n",
    "                break  # Stop after first 10 valid rows\n",
    "\n",
    "        except Exception as e:\n",
    "            print(f\"Skipping row due to error: {e}\")\n",
    "\n",
    "except Exception as e:\n",
    "    print(\"Error:\", e)\n",
    "\n",
    "\n",
    "df = pd.DataFrame(data=coins)"
   ]
  },
  {
   "cell_type": "code",
   "execution_count": 5,
   "id": "649a6062-7ca9-42bf-bbc5-8db1f1cc0150",
   "metadata": {},
   "outputs": [
    {
     "name": "stdout",
     "output_type": "stream",
     "text": [
      "  rank        name         price  market_cap             volume  \\\n",
      "0    1   [Bitcoin]  [$94,949.28]    [$1.89T]  [$25,834,759,358]   \n",
      "1    2  [Ethereum]   [$1,807.40]  [$218.34B]  [$14,664,838,700]   \n",
      "2    3    [Tether]       [$1.00]  [$148.46B]  [$57,884,294,372]   \n",
      "3    4       [XRP]       [$2.25]  [$131.53B]   [$2,818,706,241]   \n",
      "4    5       [BNB]     [$604.27]   [$85.14B]   [$1,593,054,872]   \n",
      "5    6    [Solana]     [$147.79]   [$76.51B]   [$2,819,066,729]   \n",
      "6    7      [USDC]       [$1.00]   [$62.02B]   [$8,805,004,026]   \n",
      "7    8  [Dogecoin]     [$0.1757]   [$26.19B]     [$894,281,500]   \n",
      "8    9   [Cardano]     [$0.6996]    [$24.7B]     [$815,075,219]   \n",
      "9   10      [TRON]     [$0.2434]   [$23.11B]     [$450,501,370]   \n",
      "\n",
      "        circulating_supply  \n",
      "0    [[19.85M],  ,  , BTC]  \n",
      "1   [[120.73M],  ,  , ETH]  \n",
      "2  [[148.41B],  ,  , USDT]  \n",
      "3    [[58.44B],  ,  , XRP]  \n",
      "4   [[140.89M],  ,  , BNB]  \n",
      "5   [[517.66M],  ,  , SOL]  \n",
      "6   [[62.02B],  ,  , USDC]  \n",
      "7  [[149.06B],  ,  , DOGE]  \n",
      "8     [[35.3B],  ,  , ADA]  \n",
      "9    [[94.93B],  ,  , TRX]  \n"
     ]
    }
   ],
   "source": [
    "print(df)"
   ]
  },
  {
   "cell_type": "code",
   "execution_count": null,
   "id": "1a5974b1-4ac7-4b81-84c2-d5d2bb6a1b6c",
   "metadata": {},
   "outputs": [],
   "source": []
  },
  {
   "cell_type": "code",
   "execution_count": null,
   "id": "b29904fd-6065-4e0f-ad35-88bb60e7fe5b",
   "metadata": {},
   "outputs": [],
   "source": []
  },
  {
   "cell_type": "code",
   "execution_count": null,
   "id": "b1ef18f6-d7b9-43f3-a90d-3bcefdfe6215",
   "metadata": {},
   "outputs": [],
   "source": []
  },
  {
   "cell_type": "code",
   "execution_count": null,
   "id": "b33b3341-b2d5-4d1f-b069-ff2978608397",
   "metadata": {},
   "outputs": [],
   "source": []
  },
  {
   "cell_type": "code",
   "execution_count": null,
   "id": "f8fbfc9a-3cd0-47c1-b801-fbc7e1bae692",
   "metadata": {},
   "outputs": [],
   "source": []
  }
 ],
 "metadata": {
  "kernelspec": {
   "display_name": "Python 3 (ipykernel)",
   "language": "python",
   "name": "python3"
  },
  "language_info": {
   "codemirror_mode": {
    "name": "ipython",
    "version": 3
   },
   "file_extension": ".py",
   "mimetype": "text/x-python",
   "name": "python",
   "nbconvert_exporter": "python",
   "pygments_lexer": "ipython3",
   "version": "3.13.2"
  }
 },
 "nbformat": 4,
 "nbformat_minor": 5
}
